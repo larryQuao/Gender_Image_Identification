{
 "cells": [
  {
   "cell_type": "code",
   "execution_count": 4,
   "id": "bbe2acf5-2dc9-410f-9c00-ab203dab3427",
   "metadata": {},
   "outputs": [
    {
     "name": "stdout",
     "output_type": "stream",
     "text": [
      "2.12.0\n"
     ]
    }
   ],
   "source": [
    "import numpy as np\n",
    "import pandas as pd\n",
    "import tensorflow as tf\n",
    "import os\n",
    "from PIL import Image\n",
    "print(tf.__version__)\n",
    "from tensorflow.keras.preprocessing.image import ImageDataGenerator\n",
    "\n",
    "male_images = []\n",
    "female_images = []\n",
    "\n",
    "image_width = 120\n",
    "image_height = 120\n",
    "BATCH_SIZE = 32\n",
    "\n"
   ]
  },
  {
   "cell_type": "code",
   "execution_count": 5,
   "id": "91977522-843c-4f77-9039-d49248b24537",
   "metadata": {},
   "outputs": [
    {
     "name": "stdout",
     "output_type": "stream",
     "text": [
      "Found 1847 images belonging to 2 classes.\n",
      "Found 482 images belonging to 2 classes.\n"
     ]
    }
   ],
   "source": [
    "datagen = ImageDataGenerator(rescale=1./255,\n",
    "                             shear_range=0.2,\n",
    "                             zoom_range=0.2,\n",
    "                             horizontal_flip=True,\n",
    "                             validation_split=0.2)\n",
    "\n",
    "train_generator = datagen.flow_from_directory('dataset/Gender',\n",
    "                                              target_size=(image_width, image_height),\n",
    "                                              batch_size=BATCH_SIZE,\n",
    "                                              class_mode='binary',\n",
    "                                              subset='training')\n",
    "\n",
    "validation_generator = datagen.flow_from_directory('dataset',\n",
    "                                                   target_size=(image_width, image_height),\n",
    "                                                   batch_size=BATCH_SIZE,\n",
    "                                                   class_mode='binary',\n",
    "                                                   subset='validation')"
   ]
  },
  {
   "cell_type": "code",
   "execution_count": 6,
   "id": "e548ea07-62d7-4969-b575-fd82887a1def",
   "metadata": {},
   "outputs": [
    {
     "name": "stderr",
     "output_type": "stream",
     "text": [
      "2024-04-10 00:37:43.826274: I tensorflow/core/common_runtime/process_util.cc:146] Creating new thread pool with default inter op setting: 2. Tune using inter_op_parallelism_threads for best performance.\n"
     ]
    },
    {
     "name": "stdout",
     "output_type": "stream",
     "text": [
      "Model: \"sequential\"\n",
      "_________________________________________________________________\n",
      " Layer (type)                Output Shape              Param #   \n",
      "=================================================================\n",
      " conv2d (Conv2D)             (None, 118, 118, 32)      896       \n",
      "                                                                 \n",
      " max_pooling2d (MaxPooling2D  (None, 59, 59, 32)       0         \n",
      " )                                                               \n",
      "                                                                 \n",
      " conv2d_1 (Conv2D)           (None, 57, 57, 64)        18496     \n",
      "                                                                 \n",
      " max_pooling2d_1 (MaxPooling  (None, 28, 28, 64)       0         \n",
      " 2D)                                                             \n",
      "                                                                 \n",
      " conv2d_2 (Conv2D)           (None, 26, 26, 128)       73856     \n",
      "                                                                 \n",
      " max_pooling2d_2 (MaxPooling  (None, 13, 13, 128)      0         \n",
      " 2D)                                                             \n",
      "                                                                 \n",
      " flatten (Flatten)           (None, 21632)             0         \n",
      "                                                                 \n",
      " dense (Dense)               (None, 128)               2769024   \n",
      "                                                                 \n",
      " dropout (Dropout)           (None, 128)               0         \n",
      "                                                                 \n",
      " dense_1 (Dense)             (None, 1)                 129       \n",
      "                                                                 \n",
      "=================================================================\n",
      "Total params: 2,862,401\n",
      "Trainable params: 2,862,401\n",
      "Non-trainable params: 0\n",
      "_________________________________________________________________\n"
     ]
    }
   ],
   "source": [
    "model = tf.keras.models.Sequential([\n",
    "    tf.keras.layers.Conv2D(32, (3, 3), activation='relu', input_shape=(image_width, image_height, 3)),\n",
    "    tf.keras.layers.MaxPooling2D(2, 2),\n",
    "    tf.keras.layers.Conv2D(64, (3, 3), activation='relu'),\n",
    "    tf.keras.layers.MaxPooling2D(2, 2),\n",
    "    tf.keras.layers.Conv2D(128, (3, 3), activation='relu'),\n",
    "    tf.keras.layers.MaxPooling2D(2, 2),\n",
    "    tf.keras.layers.Flatten(),\n",
    "    tf.keras.layers.Dense(128, activation='relu'),\n",
    "    tf.keras.layers.Dropout(0.5),\n",
    "    tf.keras.layers.Dense(1, activation='sigmoid')\n",
    "])\n",
    "\n",
    "model.compile(optimizer='adam',\n",
    "              loss='binary_crossentropy',\n",
    "              metrics=['accuracy'])\n",
    "\n",
    "model.summary()\n"
   ]
  },
  {
   "cell_type": "code",
   "execution_count": null,
   "id": "9dcdea1f-ff5a-4163-9fe1-a225680398da",
   "metadata": {},
   "outputs": [
    {
     "name": "stdout",
     "output_type": "stream",
     "text": [
      "Epoch 1/10\n"
     ]
    },
    {
     "name": "stderr",
     "output_type": "stream",
     "text": [
      "2024-04-10 00:37:48.833694: I tensorflow/core/common_runtime/executor.cc:1197] [/device:CPU:0] (DEBUG INFO) Executor start aborting (this does not indicate an error and you can ignore this message): INVALID_ARGUMENT: You must feed a value for placeholder tensor 'Placeholder/_0' with dtype int32\n",
      "\t [[{{node Placeholder/_0}}]]\n"
     ]
    },
    {
     "name": "stdout",
     "output_type": "stream",
     "text": [
      "54/57 [===========================>..] - ETA: 2s - loss: 0.6849 - accuracy: 0.5782"
     ]
    }
   ],
   "source": [
    "# This part trains the AI Model with Gender Folder Having the male and female Images\n",
    "history = model.fit(train_generator,\n",
    "                    steps_per_epoch=train_generator.samples // 32,\n",
    "                    epochs=10,\n",
    "                    validation_data=validation_generator,\n",
    "                    validation_steps=validation_generator.samples // 32)\n"
   ]
  },
  {
   "cell_type": "code",
   "execution_count": 15,
   "id": "ba63be54-e268-4ff0-a0ce-702acc634b87",
   "metadata": {},
   "outputs": [
    {
     "data": {
      "image/png": "[encoded data removed]",
      "text/plain": [
       "<Figure size 640x480 with 1 Axes>"
      ]
     },
     "metadata": {},
     "output_type": "display_data"
    }
   ],
   "source": [
    "import matplotlib.pyplot as plt\n",
    "\n",
    "plt.plot(history.history['accuracy'])\n",
    "plt.plot(history.history['val_accuracy'])\n",
    "plt.title('Model accuracy')\n",
    "plt.ylabel('Accuracy')\n",
    "plt.xlabel('Cycle')\n",
    "plt.legend(['Train', 'Validation'], loc='upper left')\n",
    "\n",
    "plt.title('Model loss')\n",
    "plt.ylabel('Loss')\n",
    "plt.xlabel('Cycle')\n",
    "plt.legend(['Train', 'Validation'], loc='upper left')\n",
    "plt.show()\n"
   ]
  },
  {
   "cell_type": "code",
   "execution_count": 3,
   "id": "52e70f8a-9ea8-4238-9733-cd9390fc794b",
   "metadata": {},
   "outputs": [
    {
     "ename": "NameError",
     "evalue": "name 'image_width' is not defined",
     "output_type": "error",
     "traceback": [
      "\u001b[0;31m---------------------------------------------------------------------------\u001b[0m",
      "\u001b[0;31mNameError\u001b[0m                                 Traceback (most recent call last)",
      "Cell \u001b[0;32mIn[3], line 16\u001b[0m\n\u001b[1;32m     14\u001b[0m \u001b[38;5;28;01mfor\u001b[39;00m img_path \u001b[38;5;129;01min\u001b[39;00m image_files:\n\u001b[1;32m     15\u001b[0m     img_name \u001b[38;5;241m=\u001b[39m os\u001b[38;5;241m.\u001b[39mpath\u001b[38;5;241m.\u001b[39mbasename(img_path)  \u001b[38;5;66;03m# Extracting image name from the path\u001b[39;00m\n\u001b[0;32m---> 16\u001b[0m     img \u001b[38;5;241m=\u001b[39m image\u001b[38;5;241m.\u001b[39mload_img(img_path, target_size\u001b[38;5;241m=\u001b[39m(image_width, image_height))\n\u001b[1;32m     17\u001b[0m     img_array \u001b[38;5;241m=\u001b[39m image\u001b[38;5;241m.\u001b[39mimg_to_array(img)\n\u001b[1;32m     18\u001b[0m     img_array \u001b[38;5;241m=\u001b[39m np\u001b[38;5;241m.\u001b[39mexpand_dims(img_array, axis\u001b[38;5;241m=\u001b[39m\u001b[38;5;241m0\u001b[39m)\n",
      "\u001b[0;31mNameError\u001b[0m: name 'image_width' is not defined"
     ]
    }
   ],
   "source": [
    "# This code takes new dataset and provide the prediction based on what it has been trained on.\n",
    "# It also puts all detected images, into an array which can be be displayed in a tabular manner \n",
    "\n",
    "import os\n",
    "import numpy as np\n",
    "from tensorflow.keras.preprocessing import image\n",
    "\n",
    "folder_path = 'dataset/images'\n",
    "\n",
    "image_files = [os.path.join(folder_path, f) for f in os.listdir(folder_path) if f.endswith(('.jpg', '.jpeg', '.png'))]\n",
    "\n",
    "data = []\n",
    "\n",
    "for img_path in image_files:\n",
    "    img_name = os.path.basename(img_path)  # Extracting image name from the path\n",
    "    img = image.load_img(img_path, target_size=(image_width, image_height))\n",
    "    img_array = image.img_to_array(img)\n",
    "    img_array = np.expand_dims(img_array, axis=0)\n",
    "    img_array /= 255.\n",
    "\n",
    "    prediction = model.predict(img_array)\n",
    "    female = 'yes' if prediction[0][0] >= 0.5 else 'no'\n",
    "    male = 'yes' if prediction[0][0] < 0.5 else 'no'\n",
    "\n",
    "    data.append([img_path, img_name, female, male])\n",
    "\n",
    "df = pd.DataFrame(data, columns=['Image Path', 'Image Name', 'Female (yes/no)', 'Male (yes/no)'])\n",
    "\n",
    "print(df)\n",
    "#     prediction = model.predict(img_array)\n",
    "#     if prediction[0][0] >= 0.5:\n",
    "#         print(f\"{img_path}: The Image has a Female Face\")\n",
    "#     else:\n",
    "#         print(f\"{img_path}: The Image has a Male Face\")"
   ]
  },
  {
   "cell_type": "code",
   "execution_count": 2,
   "id": "9e31e5d8-074e-436b-b93d-22e7477e7697",
   "metadata": {},
   "outputs": [
    {
     "ename": "NameError",
     "evalue": "name 'df' is not defined",
     "output_type": "error",
     "traceback": [
      "\u001b[0;31m---------------------------------------------------------------------------\u001b[0m",
      "\u001b[0;31mNameError\u001b[0m                                 Traceback (most recent call last)",
      "Cell \u001b[0;32mIn[2], line 1\u001b[0m\n\u001b[0;32m----> 1\u001b[0m males_count \u001b[38;5;241m=\u001b[39m df[\u001b[38;5;124m'\u001b[39m\u001b[38;5;124mMale (yes/no)\u001b[39m\u001b[38;5;124m'\u001b[39m]\u001b[38;5;241m.\u001b[39mvalue_counts()[\u001b[38;5;124m'\u001b[39m\u001b[38;5;124myes\u001b[39m\u001b[38;5;124m'\u001b[39m]\n\u001b[1;32m      2\u001b[0m females_count \u001b[38;5;241m=\u001b[39m df[\u001b[38;5;124m'\u001b[39m\u001b[38;5;124mFemale (yes/no)\u001b[39m\u001b[38;5;124m'\u001b[39m]\u001b[38;5;241m.\u001b[39mvalue_counts()[\u001b[38;5;124m'\u001b[39m\u001b[38;5;124myes\u001b[39m\u001b[38;5;124m'\u001b[39m]\n\u001b[1;32m      4\u001b[0m labels \u001b[38;5;241m=\u001b[39m [\u001b[38;5;124m'\u001b[39m\u001b[38;5;124mMale\u001b[39m\u001b[38;5;124m'\u001b[39m, \u001b[38;5;124m'\u001b[39m\u001b[38;5;124mFemale\u001b[39m\u001b[38;5;124m'\u001b[39m]\n",
      "\u001b[0;31mNameError\u001b[0m: name 'df' is not defined"
     ]
    }
   ],
   "source": [
    "males_count = df['Male (yes/no)'].value_counts()['yes']\n",
    "females_count = df['Female (yes/no)'].value_counts()['yes']\n",
    "\n",
    "labels = ['Male', 'Female']\n",
    "sizes = [males_count, females_count]\n",
    "colors = ['lightblue', 'lightgreen']\n",
    "explode = (0.05,0)\n",
    "\n",
    "plt.pie(sizes, explode=explode, labels=labels, colors=colors, autopct='%1.1f%%', shadow=True, startangle=140)\n",
    "plt.axis('equal')\n",
    "\n",
    "plt.title('Percentage of Male and Female Image Detected')\n",
    "plt.show\n",
    "\n"
   ]
  },
  {
   "cell_type": "code",
   "execution_count": 27,
   "id": "f702dff4-9f5c-420a-aa35-2ccf23ac70ad",
   "metadata": {},
   "outputs": [
    {
     "data": {
      "text/html": [
       "<div>\n",
       "<style scoped>\n",
       "    .dataframe tbody tr th:only-of-type {\n",
       "        vertical-align: middle;\n",
       "    }\n",
       "\n",
       "    .dataframe tbody tr th {\n",
       "        vertical-align: top;\n",
       "    }\n",
       "\n",
       "    .dataframe thead th {\n",
       "        text-align: right;\n",
       "    }\n",
       "</style>\n",
       "<table border=\"1\" class=\"dataframe\">\n",
       "  <thead>\n",
       "    <tr style=\"text-align: right;\">\n",
       "      <th></th>\n",
       "      <th>Image Path</th>\n",
       "      <th>Image Name</th>\n",
       "      <th>Female (yes/no)</th>\n",
       "      <th>Male (yes/no)</th>\n",
       "    </tr>\n",
       "  </thead>\n",
       "  <tbody>\n",
       "    <tr>\n",
       "      <th>0</th>\n",
       "      <td>dataset/images/face-813.jpg</td>\n",
       "      <td>face-813.jpg</td>\n",
       "      <td>yes</td>\n",
       "      <td>no</td>\n",
       "    </tr>\n",
       "    <tr>\n",
       "      <th>1</th>\n",
       "      <td>dataset/images/face-1629.jpg</td>\n",
       "      <td>face-1629.jpg</td>\n",
       "      <td>yes</td>\n",
       "      <td>no</td>\n",
       "    </tr>\n",
       "    <tr>\n",
       "      <th>2</th>\n",
       "      <td>dataset/images/face-1579.jpg</td>\n",
       "      <td>face-1579.jpg</td>\n",
       "      <td>no</td>\n",
       "      <td>yes</td>\n",
       "    </tr>\n",
       "    <tr>\n",
       "      <th>3</th>\n",
       "      <td>dataset/images/face-616.jpg</td>\n",
       "      <td>face-616.jpg</td>\n",
       "      <td>no</td>\n",
       "      <td>yes</td>\n",
       "    </tr>\n",
       "    <tr>\n",
       "      <th>4</th>\n",
       "      <td>dataset/images/face-820.jpg</td>\n",
       "      <td>face-820.jpg</td>\n",
       "      <td>no</td>\n",
       "      <td>yes</td>\n",
       "    </tr>\n",
       "    <tr>\n",
       "      <th>...</th>\n",
       "      <td>...</td>\n",
       "      <td>...</td>\n",
       "      <td>...</td>\n",
       "      <td>...</td>\n",
       "    </tr>\n",
       "    <tr>\n",
       "      <th>2302</th>\n",
       "      <td>dataset/images/face-89.jpg</td>\n",
       "      <td>face-89.jpg</td>\n",
       "      <td>no</td>\n",
       "      <td>yes</td>\n",
       "    </tr>\n",
       "    <tr>\n",
       "      <th>2303</th>\n",
       "      <td>dataset/images/face-1375.jpg</td>\n",
       "      <td>face-1375.jpg</td>\n",
       "      <td>yes</td>\n",
       "      <td>no</td>\n",
       "    </tr>\n",
       "    <tr>\n",
       "      <th>2304</th>\n",
       "      <td>dataset/images/face-1171.jpg</td>\n",
       "      <td>face-1171.jpg</td>\n",
       "      <td>yes</td>\n",
       "      <td>no</td>\n",
       "    </tr>\n",
       "    <tr>\n",
       "      <th>2305</th>\n",
       "      <td>dataset/images/face-418.jpg</td>\n",
       "      <td>face-418.jpg</td>\n",
       "      <td>yes</td>\n",
       "      <td>no</td>\n",
       "    </tr>\n",
       "    <tr>\n",
       "      <th>2306</th>\n",
       "      <td>dataset/images/face-512.jpg</td>\n",
       "      <td>face-512.jpg</td>\n",
       "      <td>no</td>\n",
       "      <td>yes</td>\n",
       "    </tr>\n",
       "  </tbody>\n",
       "</table>\n",
       "<p>2307 rows × 4 columns</p>\n",
       "</div>"
      ],
      "text/plain": [
       "                        Image Path     Image Name Female (yes/no)  \\\n",
       "0      dataset/images/face-813.jpg   face-813.jpg             yes   \n",
       "1     dataset/images/face-1629.jpg  face-1629.jpg             yes   \n",
       "2     dataset/images/face-1579.jpg  face-1579.jpg              no   \n",
       "3      dataset/images/face-616.jpg   face-616.jpg              no   \n",
       "4      dataset/images/face-820.jpg   face-820.jpg              no   \n",
       "...                            ...            ...             ...   \n",
       "2302    dataset/images/face-89.jpg    face-89.jpg              no   \n",
       "2303  dataset/images/face-1375.jpg  face-1375.jpg             yes   \n",
       "2304  dataset/images/face-1171.jpg  face-1171.jpg             yes   \n",
       "2305   dataset/images/face-418.jpg   face-418.jpg             yes   \n",
       "2306   dataset/images/face-512.jpg   face-512.jpg              no   \n",
       "\n",
       "     Male (yes/no)  \n",
       "0               no  \n",
       "1               no  \n",
       "2              yes  \n",
       "3              yes  \n",
       "4              yes  \n",
       "...            ...  \n",
       "2302           yes  \n",
       "2303            no  \n",
       "2304            no  \n",
       "2305            no  \n",
       "2306           yes  \n",
       "\n",
       "[2307 rows x 4 columns]"
      ]
     },
     "metadata": {},
     "output_type": "display_data"
    }
   ],
   "source": [
    "from IPython.display import display\n",
    "\n",
    "display(df)"
   ]
  },
  {
   "cell_type": "code",
   "execution_count": null,
   "id": "cfd9dcf8-0b15-44e3-9793-7b60bcf6fccc",
   "metadata": {},
   "outputs": [],
   "source": []
  }
 ],
 "metadata": {
  "kernelspec": {
   "display_name": "Python 3 (ipykernel)",
   "language": "python",
   "name": "python3"
  },
  "language_info": {
   "codemirror_mode": {
    "name": "ipython",
    "version": 3
   },
   "file_extension": ".py",
   "mimetype": "text/x-python",
   "name": "python",
   "nbconvert_exporter": "python",
   "pygments_lexer": "ipython3",
   "version": "3.11.5"
  }
 },
 "nbformat": 4,
 "nbformat_minor": 5
}
